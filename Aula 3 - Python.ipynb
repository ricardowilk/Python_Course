{
 "cells": [
  {
   "cell_type": "markdown",
   "metadata": {},
   "source": [
    "## Aula 3 - Python"
   ]
  },
  {
   "cell_type": "markdown",
   "metadata": {},
   "source": [
    "### Condicionais"
   ]
  },
  {
   "cell_type": "markdown",
   "metadata": {},
   "source": [
    "Testes condicionais **If / else**\n",
    "\n",
    "No coração de cada instrução if está uma expressão que pode ser\n",
    "avaliada como True ou False, chamada de teste condicional. \n",
    "\n",
    "Python usa os valores True e False para decidir se o código em uma instrução if deve\n",
    "ser executado. Se um teste condicional for avaliado como True, Python\n",
    "executará o código após a instrução if. Se o teste for avaliado como\n",
    "False, o interpretador ignorará o código depois da instrução if."
   ]
  },
  {
   "cell_type": "code",
   "execution_count": null,
   "metadata": {},
   "outputs": [],
   "source": [
    "\"\"\" \n",
    "Condições if /  elif / else\n",
    "\n",
    "\"\"\""
   ]
  },
  {
   "cell_type": "markdown",
   "metadata": {},
   "source": [
    "Para realizar uma comparação em Python utilizamos a seguinte estrutura:\n",
    "\n",
    "if  alguma coisa == a outra coisa:\n",
    "\n",
    "utilizamo o simbolo \"==\"  para dizer que alguma coisa é igual a outra\n",
    "\n",
    "* Se a igualdade for VERDADEIRA retornará uma valor Booleana (True) \n",
    "* Se a igualdade for FALSA ratornará um valor Boolenano (False)"
   ]
  },
  {
   "cell_type": "code",
   "execution_count": 2,
   "metadata": {},
   "outputs": [
    {
     "name": "stdout",
     "output_type": "stream",
     "text": [
      "False\n"
     ]
    }
   ],
   "source": [
    "idade = 20\n",
    "\n",
    "if idade > 21:\n",
    "    print('Verdadeiro')\n",
    "else:\n",
    "    print('False')"
   ]
  },
  {
   "cell_type": "code",
   "execution_count": 3,
   "metadata": {},
   "outputs": [
    {
     "name": "stdout",
     "output_type": "stream",
     "text": [
      "True\n"
     ]
    }
   ],
   "source": [
    "carro ='Ferrari'\n",
    "\n",
    "if carro == 'Ferrari':\n",
    "    print('True')"
   ]
  },
  {
   "cell_type": "markdown",
   "metadata": {},
   "source": [
    "## Operadores relacionais"
   ]
  },
  {
   "cell_type": "code",
   "execution_count": null,
   "metadata": {},
   "outputs": [],
   "source": [
    "\"\"\" Descrição || Operador\n",
    "\n",
    "Maior que  >\n",
    "Menor que  <\n",
    "Igual a ==\n",
    "Maior ou igual a  >=\n",
    "Menor ou igual a  =\n",
    "Diferente de    != \"\"\""
   ]
  },
  {
   "cell_type": "markdown",
   "metadata": {},
   "source": [
    "**Exercicio 1:**\n",
    "\n",
    "Cores de alienígenas #1: Suponha que um alienígena acabou de ser\n",
    "atingido em um jogo. Crie uma variável chamada alien_color e atribua-lhe um\n",
    "valor igual a 'green', 'yellow' ou 'red'.\n"
   ]
  },
  {
   "cell_type": "code",
   "execution_count": 5,
   "metadata": {},
   "outputs": [
    {
     "name": "stdout",
     "output_type": "stream",
     "text": [
      "Parabéns você ganhou cinco pontos!\n"
     ]
    }
   ],
   "source": [
    "alien_color = 'green'\n",
    "\n",
    "#Escreva uma instrução if para testar se a cor do alienígena é verde. Se for,mostre uma mensagem informando que o \n",
    "#jogador acabou de ganhar cinco pontos.\n",
    "\n",
    "if alien_color =='green':\n",
    "    print('Parabéns você ganhou cinco pontos!')\n"
   ]
  },
  {
   "cell_type": "code",
   "execution_count": 6,
   "metadata": {},
   "outputs": [],
   "source": [
    "#Escreva uma versão desse programa em que o teste if passe e outro em que ele falhe. (A versão que falha não terá nenhuma saída.)\n",
    "\n",
    "if alien_color =='red':\n",
    "    print()"
   ]
  },
  {
   "cell_type": "markdown",
   "metadata": {},
   "source": [
    "**Exercicio 2**\n",
    "\n",
    "Cores de alienígenas #2: Escolha uma cor para um alienígena, como foi feito no\n",
    "Exercício 1, e escreva uma cadeia if-else.\n",
    "\n",
    "Se a cor do alienígena for verde, mostre uma frase informando que o jogador\n",
    "acabou de ganhar cinco pontos por atingir o alienígena.\n",
    "\n",
    "Se a cor do alienígena não for verde, mostre uma frase informando que o\n",
    "jogador acabou de ganhar dez pontos.\n",
    "\n",
    "\n",
    "Escreva uma versão desse programa que execute o bloco if e outro que\n",
    "execute o bloco else."
   ]
  },
  {
   "cell_type": "code",
   "execution_count": 7,
   "metadata": {},
   "outputs": [
    {
     "name": "stdout",
     "output_type": "stream",
     "text": [
      "Você ganhou 50 pontos!\n"
     ]
    }
   ],
   "source": [
    "alien_color ='blue'\n",
    "\n",
    "if alien_color =='green':\n",
    "    print('Parabéns você ganhou cinco pontos!')\n",
    "    \n",
    "elif alien_color =='red':\n",
    "    print('Parabéns você gangou dez pontos!')\n",
    "    \n",
    "else:\n",
    "    print('Você ganhou 50 pontos!')"
   ]
  },
  {
   "cell_type": "markdown",
   "metadata": {},
   "source": [
    "**Exercicio 3**\n",
    "\n",
    "Estágios da vida: Escreva uma cadeia if-elif-else que determine o\n",
    "estágio da vida de uma pessoa. \n",
    "\n",
    "Defina um valor para a variável idade e então: \n",
    "\n",
    "Se a pessoa tiver menos de 2 anos de idade, mostre uma mensagem dizendo\n",
    "que ela é um bebê.\n",
    "\n",
    "Se a pessoa tiver pelo menos 2 anos, mas menos de 4, mostre uma\n",
    "mensagem dizendo que ela é uma criança.\n",
    "\n",
    "Se a pessoa tiver pelo menos 4 anos, mas menos de 13, mostre uma\n",
    "mensagem dizendo que ela é um(a) garoto(a).\n",
    "\n",
    "Se a pessoa tiver pelo menos 13 anos, mas menos de 20, mostre uma\n",
    "mensagem dizendo que ela é um(a) adolescente.\n",
    "\n",
    "Se a pessoa tiver pelo menos 20 anos, mas menos de 65, mostre uma\n",
    "mensagem dizendo que ela é adulto.\n",
    "\n",
    "Se a pessoa tiver 65 anos ou mais, mostre uma mensagem dizendo que essa\n",
    "pessoa é idoso."
   ]
  },
  {
   "cell_type": "code",
   "execution_count": 13,
   "metadata": {},
   "outputs": [
    {
     "name": "stdout",
     "output_type": "stream",
     "text": [
      "Qual é a sua idade: 1\n",
      "Você é um bebê!!!\n"
     ]
    }
   ],
   "source": [
    "idade = int(input('Qual é a sua idade: '))\n",
    "\n",
    "assert idade>0\n",
    "\n",
    "if idade < 2:\n",
    "    print('Você é um bebê!!!')\n",
    "\n",
    "elif idade < 4:\n",
    "    print('Você é uma criança!!!')\n",
    "    \n",
    "elif idade < 13:\n",
    "    print('Você é um(a) garoto(a)!!!')\n",
    "    \n",
    "elif idade < 20:\n",
    "    print('Você é um(a) adolescente')\n",
    "    \n",
    "elif idade < 65:\n",
    "    print('Você ja é um adulto!!!')\n",
    "\n",
    "else:\n",
    "    print('Você é um idoso')"
   ]
  },
  {
   "cell_type": "markdown",
   "metadata": {},
   "source": [
    "**Exercicio 4**\n",
    "\n",
    "Fruta favorita: Faça uma lista de suas frutas favoritas e, então, escreva uma\n",
    "série de instruções if independentes que verifiquem se determinadas frutas\n",
    "estão em sua lista.\n",
    "\n",
    "\n",
    "* Crie uma lista com suas três frutas favoritas e chame-a de frutas_favoritas.\n",
    "* Escreva cinco instruções if. Cada instrução deve verificar se uma determinada fruta está em sua lista. Se estiver, o bloco if deverá exibir uma frase, por exemplo, Você realmente gosta de bananas!"
   ]
  },
  {
   "cell_type": "code",
   "execution_count": 16,
   "metadata": {},
   "outputs": [
    {
     "name": "stdout",
     "output_type": "stream",
     "text": [
      "Você realmente gosta de banana\n",
      "Nao esta na lista\n"
     ]
    }
   ],
   "source": [
    "frutas_favoritas = ['banana','maça','jabuticaba']\n",
    "\n",
    "if 'banana' in frutas_favoritas:\n",
    "    print('Você realmente gosta de banana')\n",
    "else :\n",
    "    print('Esta fruta não esta na sua lista')\n",
    "    \n",
    "if 'Goiaba' in frutas_favoritas:\n",
    "    print('Esta fruta esta na lista')\n",
    "else :\n",
    "    print('Nao esta na lista')"
   ]
  },
  {
   "cell_type": "markdown",
   "metadata": {},
   "source": [
    "## Operadores Lógicos"
   ]
  },
  {
   "cell_type": "markdown",
   "metadata": {},
   "source": [
    "and , or , not "
   ]
  },
  {
   "cell_type": "code",
   "execution_count": 17,
   "metadata": {},
   "outputs": [
    {
     "name": "stdout",
     "output_type": "stream",
     "text": [
      "Falso\n"
     ]
    }
   ],
   "source": [
    "a = 2\n",
    "b = 3\n",
    "c = 4\n",
    "\n",
    "# quando se usa o operador logico and , anbas as condições necessitam ser True para ter um resultado verdadeiro\n",
    "\n",
    "if a==b and b<c:\n",
    "    print('Verdadeiro')\n",
    "else:\n",
    "    print('Falso')"
   ]
  },
  {
   "cell_type": "code",
   "execution_count": 18,
   "metadata": {},
   "outputs": [
    {
     "name": "stdout",
     "output_type": "stream",
     "text": [
      "verdadeiro\n"
     ]
    }
   ],
   "source": [
    "if a < b and c>b:\n",
    "    print('verdadeiro')\n",
    "    \n",
    "else:\n",
    "    print('falso')"
   ]
  },
  {
   "cell_type": "code",
   "execution_count": 20,
   "metadata": {},
   "outputs": [
    {
     "name": "stdout",
     "output_type": "stream",
     "text": [
      "verdadeiro\n"
     ]
    }
   ],
   "source": [
    "if a>b or a<c:  # quando se usa o operador or uma das condiçoes necessitam ser True para o resultado ser verdadeiro\n",
    "    print('verdadeiro')\n",
    "else:\n",
    "    print('falso')"
   ]
  },
  {
   "cell_type": "markdown",
   "metadata": {},
   "source": [
    "**Exercicio 5**\n",
    "\n",
    "Faça um programa que solicite ao usuário digitar um número inteiro, verifique se o número é par ou impar. Caso\n",
    "o usuário nao digite um número inteiro,informe que o número digitado não é um numero inteiro"
   ]
  },
  {
   "cell_type": "code",
   "execution_count": 30,
   "metadata": {},
   "outputs": [
    {
     "name": "stdout",
     "output_type": "stream",
     "text": [
      "Digite um número inteiro: 4\n",
      "O número 4 é PAR!\n"
     ]
    }
   ],
   "source": [
    "num = input('Digite um número inteiro: ')\n",
    "if num.isdigit():\n",
    "    num = int(num)\n",
    "    if num%2==0:\n",
    "        print(f'O número {num} é PAR!')\n",
    "    else:\n",
    "        print(f'O número {num} é IMPAR!')\n",
    "else:\n",
    "    print(f'O numero digitado {num} não é um número inteiro.Digite novamente!')\n",
    "            \n",
    "\n"
   ]
  },
  {
   "cell_type": "markdown",
   "metadata": {},
   "source": [
    "**Exercicio 6**\n",
    "\n",
    "Faça um programa que pergunte ao usuário e baseando-se no horário descrito,exiba a suadação apropriada:\n",
    "\n",
    "Bom dia 0-11\n",
    "Boa Tarde 12-17\n",
    "Boa Noite 18 -23"
   ]
  },
  {
   "cell_type": "code",
   "execution_count": 38,
   "metadata": {},
   "outputs": [
    {
     "name": "stdout",
     "output_type": "stream",
     "text": [
      "Digite qual é a hora (0-23 hrs)12\n",
      "Boa Tarde\n"
     ]
    }
   ],
   "source": [
    "horario = input('Digite qual é a hora (0-23 hrs)')\n",
    "\n",
    "if not horario.isdecimal():\n",
    "    print('Digite o número de horas entre 0 e 23 horas')\n",
    "else:\n",
    "    horario =int(horario)\n",
    "    if horario <11:\n",
    "        print('Bom dia!')\n",
    "        \n",
    "    elif horario <17:\n",
    "        print('Boa Tarde')\n",
    "    \n",
    "    elif horario <23:\n",
    "        print('Boa Noite!')\n",
    "    else:\n",
    "        print('Digite o número de horas entre 0 e 23 horas')"
   ]
  },
  {
   "cell_type": "markdown",
   "metadata": {},
   "source": [
    "**Exercicio 7**\n",
    "\n",
    "Faça um programa que peça o primeiro nome de um usuário. Se o nome tiver 4 letras ou menos escreva \"Seu nome é curto\";\n",
    "se tiver entre 5 e 6 letras, escreva \" Seu nome é normal\"; maior que 6 escreva \"Seu nome é muito grande\""
   ]
  },
  {
   "cell_type": "code",
   "execution_count": 12,
   "metadata": {},
   "outputs": [
    {
     "name": "stdout",
     "output_type": "stream",
     "text": [
      "Qual o seu primeiro nome? Michele\n",
      "\n",
      "O nome Michele é um nome muito grande!\n"
     ]
    }
   ],
   "source": [
    "nome = input('Qual o seu primeiro nome? ').strip()\n",
    "\n",
    "nome = nome.split()\n",
    "\n",
    "tamanho_nome =len(nome[0])\n",
    "\n",
    "\n",
    "if tamanho_nome < 4:\n",
    "    print(f'\\nO nome {nome[0]} é um nome curto!')\n",
    "    \n",
    "elif tamanho_nome < 6:\n",
    "    print(f'\\nO nome {nome[0]} é um nome normal!')\n",
    "    \n",
    "else:\n",
    "    print(f'\\nO nome {nome[0]} é um nome muito grande!')"
   ]
  },
  {
   "cell_type": "markdown",
   "metadata": {},
   "source": [
    "## Fim - Obrigado https://github.com/ricardowilk/Python_Course"
   ]
  }
 ],
 "metadata": {
  "kernelspec": {
   "display_name": "Python 3",
   "language": "python",
   "name": "python3"
  },
  "language_info": {
   "codemirror_mode": {
    "name": "ipython",
    "version": 3
   },
   "file_extension": ".py",
   "mimetype": "text/x-python",
   "name": "python",
   "nbconvert_exporter": "python",
   "pygments_lexer": "ipython3",
   "version": "3.6.5"
  }
 },
 "nbformat": 4,
 "nbformat_minor": 2
}
