{
 "cells": [
  {
   "cell_type": "markdown",
   "metadata": {},
   "source": [
    "# Aula 2 - Python"
   ]
  },
  {
   "cell_type": "markdown",
   "metadata": {},
   "source": [
    "## Tipos de dados Primitivos"
   ]
  },
  {
   "cell_type": "code",
   "execution_count": null,
   "metadata": {},
   "outputs": [],
   "source": [
    "\"\"\" \n",
    "String  ==>  sequência de caracteres entre aspas simples ou duplas\n",
    "\n",
    "int     ==>  Números inteiros  .... -3, -2 , -1 , 0 , 1 , 2 , 3.....\n",
    "\n",
    "float   ==> Número com ponto flutuante   .. -1.2 , -0.54 , 1.3, 10.45...\n",
    "\n",
    "bool    ==>  booleano/lógico   True ou False\n",
    "\n",
    "\"\"\""
   ]
  },
  {
   "cell_type": "code",
   "execution_count": 9,
   "metadata": {},
   "outputs": [
    {
     "name": "stdout",
     "output_type": "stream",
     "text": [
      "Cidade:Rio de Janeiro  tipo:<class 'str'>\n"
     ]
    }
   ],
   "source": [
    "# String\n",
    "\n",
    "cidade ='Rio de Janeiro'\n",
    "print(f'Cidade:{cidade}  tipo:{type(cidade)}')"
   ]
  },
  {
   "cell_type": "code",
   "execution_count": 10,
   "metadata": {},
   "outputs": [
    {
     "name": "stdout",
     "output_type": "stream",
     "text": [
      "<class 'int'>\n"
     ]
    }
   ],
   "source": [
    "# inteiros\n",
    "\n",
    "num = 1045\n",
    "print(type(num))"
   ]
  },
  {
   "cell_type": "code",
   "execution_count": 15,
   "metadata": {},
   "outputs": [
    {
     "name": "stdout",
     "output_type": "stream",
     "text": [
      "<class 'str'>\n",
      "<class 'str'>\n"
     ]
    }
   ],
   "source": [
    "# se os numeros estiverem entre aspas simples ou duplas eles serão do tipo str - string\n",
    "\n",
    "print(type('10'))\n",
    "print(type('10.45'))"
   ]
  },
  {
   "cell_type": "code",
   "execution_count": 23,
   "metadata": {},
   "outputs": [
    {
     "name": "stdout",
     "output_type": "stream",
     "text": [
      "10 <class 'str'>\n",
      "10 <class 'int'>\n",
      "10.0 <class 'float'>\n"
     ]
    }
   ],
   "source": [
    "#conversao de tipos\n",
    "\n",
    "num ='10'\n",
    "print(num,type(num))\n",
    "num = int(num)\n",
    "print(num,type(num))\n",
    "\n",
    "num = float(num)\n",
    "print(num,type(num))"
   ]
  },
  {
   "cell_type": "code",
   "execution_count": 11,
   "metadata": {},
   "outputs": [
    {
     "name": "stdout",
     "output_type": "stream",
     "text": [
      "<class 'float'>\n"
     ]
    }
   ],
   "source": [
    "#float\n",
    "\n",
    "numero = 10.54\n",
    "print(type(numero))"
   ]
  },
  {
   "cell_type": "code",
   "execution_count": 14,
   "metadata": {},
   "outputs": [
    {
     "name": "stdout",
     "output_type": "stream",
     "text": [
      "True\n",
      "False\n"
     ]
    }
   ],
   "source": [
    "#bool\n",
    "\n",
    "print(10==10)\n",
    "print(11>20)"
   ]
  },
  {
   "cell_type": "markdown",
   "metadata": {},
   "source": [
    "## Input - Entrada de dados pelo Usuário"
   ]
  },
  {
   "cell_type": "markdown",
   "metadata": {},
   "source": [
    "input()\n",
    "\n",
    "Um programa pode utilizar a função input() para receber os dados ou valores que um usuário fornece através do teclado. O formato típico de um comando leitura é\n",
    "\n",
    "variável = input('Prompt')\n",
    "\n",
    "O valor que o usuário fornece e que será retornada pelo input() é sempre um string e não um número."
   ]
  },
  {
   "cell_type": "markdown",
   "metadata": {},
   "source": [
    "### Escrevendo prompts claros\n",
    "\n",
    "Sempre que usar a função input(), inclua um prompt claro, fácil de compreender, que informe o usuário exatamente que tipo de informação você procura. Qualquer frase que diga aos usuários o que eles devem fornecer será apropriada. \n",
    "\n",
    "Por exemplo: \n",
    "\n"
   ]
  },
  {
   "cell_type": "code",
   "execution_count": 1,
   "metadata": {},
   "outputs": [
    {
     "name": "stdout",
     "output_type": "stream",
     "text": [
      "Digite o seu nome: Ricardo\n",
      "Olá, Ricardo!\n"
     ]
    }
   ],
   "source": [
    "nome = input(\"Digite o seu nome: \") \n",
    "print(\"Olá, \" + nome + \"!\")  #Acrescente um espaço no final de seus prompts (depois dos dois-pontos no exemplo anterior)\n",
    "                             #para separar o prompt da resposta do usuário e deixar claro em que\n",
    "                             #lugar o usuário deve fornecer seu texto. "
   ]
  },
  {
   "cell_type": "code",
   "execution_count": 2,
   "metadata": {},
   "outputs": [
    {
     "name": "stdout",
     "output_type": "stream",
     "text": [
      "Digite o primeiro número: 10\n",
      "Digite o segundo número: 2\n",
      "10 <class 'str'>\n",
      "2 <class 'str'>\n"
     ]
    }
   ],
   "source": [
    "# vamos realizar a soma de 2 números informados pelo usuário\n",
    "\n",
    "num1 = input('Digite o primeiro número: ')\n",
    "num2 = input('Digite o segundo número: ')\n",
    "\n",
    "# Pyhton sempre retorna o valor ingressado pelo usuário em uma função input() como uma string\n",
    "\n",
    "print(num1 , type(num1))\n",
    "print(num2, type(num2))"
   ]
  },
  {
   "cell_type": "code",
   "execution_count": 6,
   "metadata": {},
   "outputs": [
    {
     "name": "stdout",
     "output_type": "stream",
     "text": [
      "A soma de 10 + 2 é igual a 12.\n"
     ]
    }
   ],
   "source": [
    "# para realizar a soma de dois números é necessário realizar a conversão de string para inteiros\n",
    "\n",
    "num1 = int(num1)\n",
    "num2 = int(num2)\n",
    "print(f'A soma de {num1} + {num2} é igual a {num1+num2}.')"
   ]
  },
  {
   "cell_type": "markdown",
   "metadata": {},
   "source": [
    "### Operadores Aritméticos"
   ]
  },
  {
   "cell_type": "code",
   "execution_count": null,
   "metadata": {},
   "outputs": [],
   "source": [
    " \"\"\" \n",
    " +  => Adição\n",
    " \n",
    " -  => subtração\n",
    " \n",
    " *  => multiplicaçãp\n",
    " \n",
    " /  => divisão   retorna um número ponto futuante\n",
    " \n",
    " // => divisão inteira\n",
    " \n",
    " ** => exponenciação\n",
    " \n",
    " %  => modulo  retorna o resto da divisão\n",
    " \n",
    " () => altera ordem de precedência\n",
    " \"\"\""
   ]
  },
  {
   "cell_type": "code",
   "execution_count": 36,
   "metadata": {},
   "outputs": [
    {
     "name": "stdout",
     "output_type": "stream",
     "text": [
      "Digite o primeiro número: 11\n",
      "Digite o segundo número: 2\n",
      "\n",
      "Adição \"+\"\n",
      "A adição do 11 + 2 é igual a 13\n",
      "\n",
      "Subtração \"-\"\n",
      "A subtração do 11 - 2 é igual a 9\n",
      "\n",
      "Divisão \"/\"\n",
      "A divisão do 11 / 2 é igual a 5.5\n",
      "\n",
      "Divisão Inteira \"//\"\n",
      "A divisão inteira do 11 // 2 é igual a 5\n",
      "\n",
      "Exponenciação \"**\"\n",
      "A exponenciação / potencia do 11**2 é igual a 121\n",
      "\n",
      "Modulo \"%\"\n",
      "O resto da divisão inteira do 11%2 é igual a 1\n"
     ]
    }
   ],
   "source": [
    "num1 = int(input('Digite o primeiro número: '))\n",
    "num2 = int(input('Digite o segundo número: '))\n",
    "print()\n",
    "print('Adição \"+\"')\n",
    "print(f'A adição do {num1} + {num2} é igual a {num1+num2}')\n",
    "\n",
    "print('\\nSubtração \"-\"')\n",
    "print(f'A subtração do {num1} - {num2} é igual a {num1-num2}')\n",
    "\n",
    "print('\\nDivisão \"/\"')\n",
    "print(f'A divisão do {num1} / {num2} é igual a {num1/num2}')\n",
    "\n",
    "print('\\nDivisão Inteira \"//\"')\n",
    "print(f'A divisão inteira do {num1} // {num2} é igual a {num1//num2}')\n",
    "\n",
    "print('\\nExponenciação \"**\"')\n",
    "print(f'A exponenciação / potencia do {num1}**{num2} é igual a {num1**num2}')\n",
    "\n",
    "print('\\nModulo \"%\"')\n",
    "print(f'O resto da divisão inteira do {num1}%{num2} é igual a {num1%num2}')"
   ]
  },
  {
   "cell_type": "code",
   "execution_count": 37,
   "metadata": {},
   "outputs": [
    {
     "name": "stdout",
     "output_type": "stream",
     "text": [
      "41\n"
     ]
    }
   ],
   "source": [
    "# equações\n",
    "\n",
    "x = 10 +1 + 10*3\n",
    "print(x)"
   ]
  },
  {
   "cell_type": "code",
   "execution_count": 42,
   "metadata": {},
   "outputs": [
    {
     "name": "stdout",
     "output_type": "stream",
     "text": [
      "Fabiana tem 45 anos.\n",
      "Para o seu peso de 65Kg e sua altura 1.68m possui um valor de IMC igual a 23.03\n"
     ]
    }
   ],
   "source": [
    "# Exercício - calcule o IMC de uma pessoa e imprima o seu resultado informando: nome , idade , peso , altura e valor do IMC\n",
    "\n",
    "nome = 'Fabiana'\n",
    "idade = 45\n",
    "altura = 1.68\n",
    "peso = 65\n",
    "\n",
    "IMC = peso/(altura**2)\n",
    "\n",
    "print(f'{nome} tem {idade} anos.\\nPara o seu peso de {peso}Kg e sua altura {altura}m possui um valor de IMC igual a {IMC:.2f}')"
   ]
  },
  {
   "cell_type": "code",
   "execution_count": null,
   "metadata": {},
   "outputs": [],
   "source": []
  }
 ],
 "metadata": {
  "kernelspec": {
   "display_name": "Python 3",
   "language": "python",
   "name": "python3"
  },
  "language_info": {
   "codemirror_mode": {
    "name": "ipython",
    "version": 3
   },
   "file_extension": ".py",
   "mimetype": "text/x-python",
   "name": "python",
   "nbconvert_exporter": "python",
   "pygments_lexer": "ipython3",
   "version": "3.6.5"
  }
 },
 "nbformat": 4,
 "nbformat_minor": 2
}
