{
 "cells": [
  {
   "cell_type": "markdown",
   "metadata": {},
   "source": [
    "## Aula 4 - Python"
   ]
  },
  {
   "cell_type": "markdown",
   "metadata": {},
   "source": [
    "### Strings e Indexação"
   ]
  },
  {
   "cell_type": "markdown",
   "metadata": {},
   "source": [
    "Python entende uma string como uma sequência de caracteres em uma ordem específica.Desta forma\n",
    "é possível utilizar  a indexação para obter um caracter específico ( como a primeira letra ou a última)."
   ]
  },
  {
   "cell_type": "markdown",
   "metadata": {},
   "source": [
    "Strings representa uma sequência imutável de caracteres ou apenas 1 caractere"
   ]
  },
  {
   "cell_type": "code",
   "execution_count": 1,
   "metadata": {},
   "outputs": [],
   "source": [
    "palavra ='palavra'\n",
    "letra ='a'"
   ]
  },
  {
   "cell_type": "markdown",
   "metadata": {},
   "source": [
    "* Em Python utilizamos colchete [ ] para representar um indice de um obejto.\n",
    "* Em Python a indexação começa por zero"
   ]
  },
  {
   "cell_type": "code",
   "execution_count": 2,
   "metadata": {},
   "outputs": [
    {
     "name": "stdout",
     "output_type": "stream",
     "text": [
      "P\n",
      "y\n",
      "t\n"
     ]
    }
   ],
   "source": [
    "texto = 'Python e Análise de Dados'\n",
    "print(texto[0]) #primeira posição da string corresponde ao indice 0\n",
    "print(texto[1])\n",
    "print(texto[2])"
   ]
  },
  {
   "cell_type": "markdown",
   "metadata": {},
   "source": [
    "### Fatiamento de Strings - Slice"
   ]
  },
  {
   "cell_type": "code",
   "execution_count": 3,
   "metadata": {},
   "outputs": [
    {
     "name": "stdout",
     "output_type": "stream",
     "text": [
      "Python\n"
     ]
    }
   ],
   "source": [
    "print(texto[:6])"
   ]
  },
  {
   "cell_type": "code",
   "execution_count": 4,
   "metadata": {},
   "outputs": [
    {
     "name": "stdout",
     "output_type": "stream",
     "text": [
      "Dados\n"
     ]
    }
   ],
   "source": [
    "print(texto[-5:])"
   ]
  },
  {
   "cell_type": "code",
   "execution_count": 5,
   "metadata": {},
   "outputs": [
    {
     "name": "stdout",
     "output_type": "stream",
     "text": [
      "Python e Análise de Dados\n"
     ]
    }
   ],
   "source": [
    "print(texto[:])"
   ]
  },
  {
   "cell_type": "code",
   "execution_count": 6,
   "metadata": {},
   "outputs": [
    {
     "name": "stdout",
     "output_type": "stream",
     "text": [
      "Pto  nls eDds\n"
     ]
    }
   ],
   "source": [
    "print(texto[::2])"
   ]
  },
  {
   "cell_type": "markdown",
   "metadata": {},
   "source": [
    "## Estruturas de Dados"
   ]
  },
  {
   "cell_type": "markdown",
   "metadata": {},
   "source": [
    "### Listas"
   ]
  },
  {
   "cell_type": "markdown",
   "metadata": {},
   "source": [
    "Uma lista é uma coleção de itens em uma ordem em particular. Podemos\n",
    "criar uma lista que inclua as letras do alfabeto, os dígitos de 0 a 9 ou os\n",
    "nomes de todas as pessoas de sua família. Você pode colocar qualquer\n",
    "informação que quiser em uma lista, e os itens de sua lista não precisam\n",
    "estar relacionados de nenhum modo em particular. \n",
    "\n",
    "Em Python, colchetes ([ ]) indicam uma lista, e elementos individuais\n",
    "da lista são separados por vírgulas. "
   ]
  },
  {
   "cell_type": "code",
   "execution_count": 7,
   "metadata": {},
   "outputs": [
    {
     "name": "stdout",
     "output_type": "stream",
     "text": [
      "[1, 2, 3, 4]\n"
     ]
    }
   ],
   "source": [
    "lista = [1 , 2, 3, 4]\n",
    "print(lista)"
   ]
  },
  {
   "cell_type": "markdown",
   "metadata": {},
   "source": [
    "Listas podem conter elementos de diferentes tipos (str,int,float,bool)"
   ]
  },
  {
   "cell_type": "code",
   "execution_count": 8,
   "metadata": {},
   "outputs": [
    {
     "name": "stdout",
     "output_type": "stream",
     "text": [
      "['pão', 'carne', 1, 2, 4.12, True]\n"
     ]
    }
   ],
   "source": [
    "lista2 = ['pão','carne',1,2,4.12,True]\n",
    "print(lista2)"
   ]
  },
  {
   "cell_type": "code",
   "execution_count": 9,
   "metadata": {},
   "outputs": [
    {
     "name": "stdout",
     "output_type": "stream",
     "text": [
      "['pão', 'carne', 1, 2, 4.12, True]\n",
      "['massa', 'carne', 1, 2, 4.12, True]\n"
     ]
    }
   ],
   "source": [
    "#Listas sao consideradas mutáveis , ou seja , os elementos dentro de uma lista podem ser alterados\n",
    "\n",
    "print(lista2)\n",
    "\n",
    "lista2[0]='massa'\n",
    "\n",
    "print(lista2)"
   ]
  },
  {
   "cell_type": "code",
   "execution_count": 10,
   "metadata": {},
   "outputs": [
    {
     "name": "stdout",
     "output_type": "stream",
     "text": [
      "[[1, 2, 3], [4, 5, 6]]\n"
     ]
    }
   ],
   "source": [
    "#listas aninhadas é quando temos listas dentro de listas\n",
    "\n",
    "lista3= [[1,2,3],[4,5,6]]\n",
    "print(lista3)"
   ]
  },
  {
   "cell_type": "code",
   "execution_count": 11,
   "metadata": {},
   "outputs": [
    {
     "name": "stdout",
     "output_type": "stream",
     "text": [
      "Pão\n",
      "Macarrão\n",
      "leite\n"
     ]
    }
   ],
   "source": [
    "#fatiamento de listas\n",
    "\n",
    "lista_mercado=['Pão','Macarrão','Feijão','leite']\n",
    "\n",
    "#podemos acessar os elementos da lista através de seus indíces\n",
    "\n",
    "print(lista_mercado[0])\n",
    "print(lista_mercado[1])\n",
    "print(lista_mercado[-1])"
   ]
  },
  {
   "cell_type": "code",
   "execution_count": 12,
   "metadata": {},
   "outputs": [
    {
     "name": "stdout",
     "output_type": "stream",
     "text": [
      "['Pão', 'Macarrão', 'Feijão', 'leite']\n",
      "Feijão\n"
     ]
    }
   ],
   "source": [
    "#deletando uma item da lista\n",
    "\n",
    "print(lista_mercado)\n",
    "print(lista_mercado[2])"
   ]
  },
  {
   "cell_type": "code",
   "execution_count": 13,
   "metadata": {},
   "outputs": [
    {
     "name": "stdout",
     "output_type": "stream",
     "text": [
      "['Pão', 'Macarrão', 'leite']\n"
     ]
    }
   ],
   "source": [
    "del lista_mercado[2] # vamos deletar o elemento da lista na posição 2 (feijao)\n",
    "print(lista_mercado)"
   ]
  },
  {
   "cell_type": "code",
   "execution_count": 14,
   "metadata": {},
   "outputs": [
    {
     "name": "stdout",
     "output_type": "stream",
     "text": [
      "['Pão', 'Macarrão', 'leite']\n",
      "['Pão', 'Macarrão', 'leite', 'banana']\n"
     ]
    }
   ],
   "source": [
    "#adicionando elemento a uma lista funçaõ append()\n",
    "\n",
    "print(lista_mercado)\n",
    "lista_mercado.append('banana')\n",
    "print(lista_mercado)"
   ]
  },
  {
   "cell_type": "code",
   "execution_count": 15,
   "metadata": {},
   "outputs": [
    {
     "name": "stdout",
     "output_type": "stream",
     "text": [
      "[1, 2, 3, 4, 5, 6]\n"
     ]
    }
   ],
   "source": [
    "#concatenando listas '+'\n",
    "\n",
    "lista1=[1,2,3]\n",
    "lista2=[4,5,6]\n",
    "lista3 = lista1 + lista2\n",
    "\n",
    "print(lista3)"
   ]
  },
  {
   "cell_type": "code",
   "execution_count": 16,
   "metadata": {},
   "outputs": [
    {
     "name": "stdout",
     "output_type": "stream",
     "text": [
      "[1, 2, 3]\n",
      "[1, 2, 3, 4, 5, 6]\n"
     ]
    }
   ],
   "source": [
    "# incluindo elemento a uma lista através da função extend()\n",
    "print(lista1)\n",
    "\n",
    "lista1.extend(lista2)\n",
    "print(lista1)"
   ]
  },
  {
   "cell_type": "code",
   "execution_count": 17,
   "metadata": {},
   "outputs": [
    {
     "name": "stdout",
     "output_type": "stream",
     "text": [
      "[1, 2, 3, 4, 5, 6, 7, 8, 9]\n"
     ]
    }
   ],
   "source": [
    "#criando lista com a função range\n",
    "\n",
    "l2 =list(range(1,10))\n",
    "print(l2)\n"
   ]
  },
  {
   "cell_type": "code",
   "execution_count": 18,
   "metadata": {},
   "outputs": [
    {
     "name": "stdout",
     "output_type": "stream",
     "text": [
      "9\n"
     ]
    }
   ],
   "source": [
    "#comprimento de uma lista , utiliza-se a função len()\n",
    "\n",
    "print(len(l2))"
   ]
  },
  {
   "cell_type": "code",
   "execution_count": 19,
   "metadata": {},
   "outputs": [
    {
     "name": "stdout",
     "output_type": "stream",
     "text": [
      "1\n",
      "2\n",
      "3\n",
      "4\n",
      "5\n",
      "6\n",
      "7\n",
      "8\n",
      "9\n"
     ]
    }
   ],
   "source": [
    "#percorrendo os elementos de uma lista utilizando o laço for\n",
    "\n",
    "for valor in l2:\n",
    "    print(valor)"
   ]
  },
  {
   "cell_type": "code",
   "execution_count": 20,
   "metadata": {},
   "outputs": [
    {
     "name": "stdout",
     "output_type": "stream",
     "text": [
      "45\n"
     ]
    }
   ],
   "source": [
    "# somando os elementos de uma lista\n",
    "\n",
    "soma = 0\n",
    "for valor in l2:\n",
    "    soma+=valor\n",
    "print(soma)"
   ]
  },
  {
   "cell_type": "code",
   "execution_count": null,
   "metadata": {},
   "outputs": [],
   "source": [
    "# jogo da forca\n",
    "\n",
    "secreto ='perfume'\n",
    "digitadas =[]\n",
    "\n",
    "while True:\n",
    "    letra = input('Digite uma letra: ')\n",
    "    if len(letra) >1:\n",
    "        print('Isso não vale !!! Digite apenas uma letra')\n",
    "        continue\n",
    "        \n",
    "        \n",
    "    digitadas.append(letra)\n",
    "    \n",
    "    \n",
    "    if letra in secreto:\n",
    "        print(f'Uhhhh a letra digitada {letra} faz parte da palavra secreta')\n",
    "        \n",
    "    else:\n",
    "        print(f'Affff a letra digitada {letra} NÃO faz parte da palavra secreta')\n",
    "        digitadas.pop()\n",
    "        \n",
    "    secreto_temporario =''\n",
    "    \n",
    "    for letra_secreta in secreto:\n",
    "        if letra_secreta in digitadas:\n",
    "            secreto_temporario+=letra_secreta\n",
    "        else:\n",
    "            secreto_temporario+='*'\n",
    "    print(secreto_temporario)\n",
    "    \n",
    "    if secreto_temporario == secreto:\n",
    "        print(f'Que legal voce GANHOU!!! A palavra secreta era \"{secreto}\" ')\n",
    "        break"
   ]
  },
  {
   "cell_type": "code",
   "execution_count": null,
   "metadata": {},
   "outputs": [],
   "source": []
  }
 ],
 "metadata": {
  "kernelspec": {
   "display_name": "Python 3",
   "language": "python",
   "name": "python3"
  },
  "language_info": {
   "codemirror_mode": {
    "name": "ipython",
    "version": 3
   },
   "file_extension": ".py",
   "mimetype": "text/x-python",
   "name": "python",
   "nbconvert_exporter": "python",
   "pygments_lexer": "ipython3",
   "version": "3.6.5"
  }
 },
 "nbformat": 4,
 "nbformat_minor": 2
}
